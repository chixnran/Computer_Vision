import pandas as pd
import matplotlib.pyplot as plt
import seaborn as sns

#setting fonts
plt.rcParams['font.family'] = ['Microsoft YaHei'] 
# setting lable size
plt.rcParams["axes.labelsize"] = 14  
# setting background
sns.set_style("darkgrid",{"font.family":['Microsoft YaHei', 'SimHei']})
